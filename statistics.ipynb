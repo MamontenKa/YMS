{
 "cells": [
  {  {
   "cell_type": "code",
   "execution_count": null,
   "metadata": {},
   "outputs": [],
   "source": [
    "import pandas as pd\n",
    "import numpy as np\n",
    "import matplotlib.pyplot as plt\n",
    "\n",
    "df = pd.read_csv('statistics.csv')"
   ]
  },
  {
   "cell_type": "code",
   "execution_count": null,
   "metadata": {},
   "outputs": [],
   "source": [
    "df.head()"
   ]
  },
  {
   "cell_type": "code",
   "execution_count": null,
   "metadata": {},
   "outputs": [],
   "source": [
    "df.replace('None', np.nan).info()"
   ]
  },
  {
   "cell_type": "code",
   "execution_count": null,
   "metadata": {},
   "outputs": [],
   "source": [
    "df = df.replace('None', pd.np.nan).dropna()"
   ]
  },
  {
   "cell_type": "code",
   "execution_count": null,
   "metadata": {},
   "outputs": [],
   "source": [
    "# Самые прослушиваемые исполнители\n",
    "df.groupby(['artist_id','artist'])['artist_id'].count().sort_values(ascending=False).head(10)"
   ]
  },
  {
   "cell_type": "code",
   "execution_count": null,
   "metadata": {},
   "outputs": [],
   "source": [
    "# Самые прослушиваемые песни\n",
    "df.groupby(['track_id', 'artist','track'])['track_id'].count().sort_values(ascending=False).head(10)"
   ]
  },
  {
   "cell_type": "code",
   "execution_count": null,
   "metadata": {},
   "outputs": [],
   "source": [
    "# Самые прослушиваемые альбомы\n",
    "df.groupby(['album_id', 'artist','album'])['album_id'].count().sort_values(ascending=False).head(10)"
   ]
  },
  {
   "cell_type": "code",
   "execution_count": null,
   "metadata": {},
   "outputs": [],
   "source": [
    "# Самые прослушиваемые треки исполнителя\n",
    "artist_name = ''\n",
    "df.groupby([\n",
    "    'artist_id', 'track_id', 'artist', 'track'\n",
    "])['artist_id'].count().sort_values(ascending=False).head(10)"
   ]
  },
  {
   "cell_type": "code",
   "execution_count": null,
   "metadata": {},
   "outputs": [],
   "source": [
    "# Самые прослушиваемые альбомы исполнителя\n",
    "df.groupby([\n",
    "    'artist_id', 'album_id', 'artist', 'album'\n",
    "])['artist_id'].count().sort_values(ascending=False).head(10)"
   ]
  },
  {
   "cell_type": "code",
   "execution_count": null,
   "metadata": {},
   "outputs": [],
   "source": [
    "# Самые прослушиваемые треки альбома\n",
    "album_name = ''\n",
    "df.groupby(['album_id', 'track_id', 'album', 'track'])['album_id'].count().sort_values(ascending=False).head(10)"
   ]
  },
  {
   "cell_type": "code",
   "execution_count": null,
   "metadata": {
    "scrolled": true
   },
   "outputs": [],
   "source": [
    "# Самые прослушиваемые жанры\n",
    "df.groupby(['genre'])['genre'].count().sort_values(ascending=False).head(10)"
   ]
  },
  {
   "cell_type": "code",
   "execution_count": null,
   "metadata": {},
   "outputs": [],
   "source": [
    "# Распределение треков по году выпуска\n",
    "\n",
    "plt.rcParams['figure.figsize'] = [15, 5]\n",
    "plt.hist(df['year'].sort_values(), bins=len(df['year'].unique()))\n",
    "plt.xticks(rotation='vertical')\n",
    "plt.show()"
   ]
  },
  {
   "cell_type": "code",
   "execution_count": null,
   "metadata": {},
   "outputs": [],
   "source": [
    "# Время, за которое были прослушены треки\n",
    "duration_sec = df['duration_sec'].astype('int64').sum()\n",
    "ss = duration_sec % 60\n",
    "m = duration_sec // 60\n",
    "mm = m % 60\n",
    "h = m // 60\n",
    "hh = h % 24\n",
	"d = h //24\n",
    "f'{d} {hh}:{mm}:{ss} {duration_sec}'"
   ]
  },
  {
   "cell_type": "code",
   "execution_count": null,
   "metadata": {},
   "outputs": [],
   "source": []
  }
 ],
 "metadata": {
  "kernelspec": {
   "display_name": "Python 3",
   "language": "python",
   "name": "python3"
  },
  "language_info": {
   "codemirror_mode": {
    "name": "ipython",
    "version": 3
   },
   "file_extension": ".py",
   "mimetype": "text/x-python",
   "name": "python",
   "nbconvert_exporter": "python",
   "pygments_lexer": "ipython3",
   "version": "3.7.4"
  },
  "pycharm": {
   "stem_cell": {
    "cell_type": "raw",
    "metadata": {
     "collapsed": false
    },
    "source": []
   }
  }
 },
 "nbformat": 4,
 "nbformat_minor": 1
}
