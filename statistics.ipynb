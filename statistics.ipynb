{
 "cells": [
  {
   "cell_type": "code",
   "execution_count": 1,
   "metadata": {},
   "outputs": [],
   "source": [
    "import pandas as pd\n",
    "import numpy as np\n",
    "import matplotlib.pyplot as plt\n",
    "\n",
    "df = pd.read_csv('statistics.csv')"
   ]
  },
  {
   "cell_type": "code",
   "execution_count": 2,
   "metadata": {},
   "outputs": [
    {
     "data": {
      "text/html": [
       "<div>\n",
       "<style scoped>\n",
       "    .dataframe tbody tr th:only-of-type {\n",
       "        vertical-align: middle;\n",
       "    }\n",
       "\n",
       "    .dataframe tbody tr th {\n",
       "        vertical-align: top;\n",
       "    }\n",
       "\n",
       "    .dataframe thead th {\n",
       "        text-align: right;\n",
       "    }\n",
       "</style>\n",
       "<table border=\"1\" class=\"dataframe\">\n",
       "  <thead>\n",
       "    <tr style=\"text-align: right;\">\n",
       "      <th></th>\n",
       "      <th>artist</th>\n",
       "      <th>artist_id</th>\n",
       "      <th>album</th>\n",
       "      <th>album_id</th>\n",
       "      <th>track</th>\n",
       "      <th>track_id</th>\n",
       "      <th>duration_sec</th>\n",
       "      <th>year</th>\n",
       "      <th>genre</th>\n",
       "    </tr>\n",
       "  </thead>\n",
       "  <tbody>\n",
       "    <tr>\n",
       "      <td>0</td>\n",
       "      <td>Кирилл Гуд</td>\n",
       "      <td>4638221</td>\n",
       "      <td>Последний звонок</td>\n",
       "      <td>7606774</td>\n",
       "      <td>Последний звонок</td>\n",
       "      <td>53276202</td>\n",
       "      <td>214</td>\n",
       "      <td>2019</td>\n",
       "      <td>foreignrap</td>\n",
       "    </tr>\n",
       "    <tr>\n",
       "      <td>1</td>\n",
       "      <td>Miyagi</td>\n",
       "      <td>4465783</td>\n",
       "      <td>Buster Keaton</td>\n",
       "      <td>8412299</td>\n",
       "      <td>Ночи в одного</td>\n",
       "      <td>53729472</td>\n",
       "      <td>127</td>\n",
       "      <td>2019</td>\n",
       "      <td>foreignrap</td>\n",
       "    </tr>\n",
       "    <tr>\n",
       "      <td>2</td>\n",
       "      <td>VERBEE</td>\n",
       "      <td>6119595</td>\n",
       "      <td>Кристалл</td>\n",
       "      <td>7457464</td>\n",
       "      <td>Кристалл</td>\n",
       "      <td>52772950</td>\n",
       "      <td>144</td>\n",
       "      <td>2019</td>\n",
       "      <td>rusrap</td>\n",
       "    </tr>\n",
       "    <tr>\n",
       "      <td>3</td>\n",
       "      <td>Звонкий</td>\n",
       "      <td>233939</td>\n",
       "      <td>Мир моих иллюзий</td>\n",
       "      <td>5898165</td>\n",
       "      <td>Королева</td>\n",
       "      <td>42994385</td>\n",
       "      <td>222</td>\n",
       "      <td>2018</td>\n",
       "      <td>rusrap</td>\n",
       "    </tr>\n",
       "    <tr>\n",
       "      <td>4</td>\n",
       "      <td>Tanir</td>\n",
       "      <td>3140590</td>\n",
       "      <td>Da Da Da</td>\n",
       "      <td>8411804</td>\n",
       "      <td>Da Da Da</td>\n",
       "      <td>56671420</td>\n",
       "      <td>198</td>\n",
       "      <td>2019</td>\n",
       "      <td>rusrap</td>\n",
       "    </tr>\n",
       "  </tbody>\n",
       "</table>\n",
       "</div>"
      ],
      "text/plain": [
       "       artist  artist_id             album album_id             track  \\\n",
       "0  Кирилл Гуд    4638221  Последний звонок  7606774  Последний звонок   \n",
       "1      Miyagi    4465783     Buster Keaton  8412299     Ночи в одного   \n",
       "2      VERBEE    6119595          Кристалл  7457464          Кристалл   \n",
       "3     Звонкий     233939  Мир моих иллюзий  5898165          Королева   \n",
       "4       Tanir    3140590          Da Da Da  8411804          Da Da Da   \n",
       "\n",
       "   track_id duration_sec  year       genre  \n",
       "0  53276202          214  2019  foreignrap  \n",
       "1  53729472          127  2019  foreignrap  \n",
       "2  52772950          144  2019      rusrap  \n",
       "3  42994385          222  2018      rusrap  \n",
       "4  56671420          198  2019      rusrap  "
      ]
     },
     "execution_count": 2,
     "metadata": {},
     "output_type": "execute_result"
    }
   ],
   "source": [
    "df.head()"
   ]
  },
  {
   "cell_type": "code",
   "execution_count": 3,
   "metadata": {},
   "outputs": [],
   "source": [
    "df = df.replace('None', pd.np.nan).dropna()"
   ]
  },
  {
   "cell_type": "code",
   "execution_count": 4,
   "metadata": {},
   "outputs": [],
   "source": [
    "df = df.replace('None', np.nan)"
   ]
  },
  {
   "cell_type": "code",
   "execution_count": 5,
   "metadata": {},
   "outputs": [
    {
     "data": {
      "text/plain": [
       "artist_id  artist          \n",
       "4652316    The Hatters         91\n",
       "4865954    GONE.Fludd          83\n",
       "4234826    Jubilee             73\n",
       "3204612    Тони Раут           73\n",
       "3313381    ЛСП                 58\n",
       "2938031    Markul              57\n",
       "4545156    Loqiemean           56\n",
       "6286764    алёна швец.         55\n",
       "3183564    Хлеб                53\n",
       "42004      Hollywood Undead    53\n",
       "Name: artist_id, dtype: int64"
      ]
     },
     "execution_count": 5,
     "metadata": {},
     "output_type": "execute_result"
    }
   ],
   "source": [
    "# Самые прослушиваемые исполнители\n",
    "df.groupby(['artist_id','artist'])['artist_id'].count().sort_values(ascending=False).head(10)"
   ]
  },
  {
   "cell_type": "code",
   "execution_count": 6,
   "metadata": {},
   "outputs": [
    {
     "data": {
      "text/plain": [
       "track_id  artist               track                    \n",
       "51130391  XTV                  Душевный флоу                13\n",
       "51516485  Billie Eilish        bad guy                      13\n",
       "44615834  Panic! At The Disco  The Greatest Show            13\n",
       "45642101  Ленинград            В Зените                     12\n",
       "52103364  DaniLeigh            No Limits                    12\n",
       "43363594  Блажин               Не перебивай                 12\n",
       "25321242  Мария Чайковская     В комнате цветных пелерин    12\n",
       "48925759  VERBEE               Зацепила                     12\n",
       "50827112  Loqiemean            Солнечная сторона            11\n",
       "50276416  Boulevard Depo       DRUГ                         11\n",
       "Name: track_id, dtype: int64"
      ]
     },
     "execution_count": 6,
     "metadata": {},
     "output_type": "execute_result"
    }
   ],
   "source": [
    "# Самые прослушиваемые песни\n",
    "df.groupby(['track_id', 'artist','track'])['track_id'].count().sort_values(ascending=False).head(10)"
   ]
  },
  {
   "cell_type": "code",
   "execution_count": 7,
   "metadata": {},
   "outputs": [
    {
     "data": {
      "text/plain": [
       "album_id  artist           album                          \n",
       "6072366   Big Baby Tape    Dragonborn                         37\n",
       "4288331   The Hatters      Полная шляпа                       36\n",
       "5905756   Markul           Great Depression                   33\n",
       "5265133   GONE.Fludd       BOYS DON'T CRY                     32\n",
       "5795190   GONE.Fludd       СУПЕРЧУИТС                         32\n",
       "5903231   алёна швец.      Похороните меня за социум          30\n",
       "6109353   V $ X V Prince   A$sorti                            25\n",
       "7046525   Loqiemean        Сожги этот альбом                  25\n",
       "8651615   Нурминский       Пацаны с улиц выбиваются в люди    25\n",
       "5746184   Эльдар Джарахов  ROCK'n'ROFL                        24\n",
       "Name: album_id, dtype: int64"
      ]
     },
     "execution_count": 7,
     "metadata": {},
     "output_type": "execute_result"
    }
   ],
   "source": [
    "# Самые прослушиваемые альбомы\n",
    "df.groupby(['album_id', 'artist','album'])['album_id'].count().sort_values(ascending=False).head(10)"
   ]
  },
  {
   "cell_type": "code",
   "execution_count": 8,
   "metadata": {},
   "outputs": [
    {
     "data": {
      "text/plain": [
       "artist_id  track_id  artist               track                    \n",
       "7112374    51130391  XTV                  Душевный флоу                13\n",
       "4353492    51516485  Billie Eilish        bad guy                      13\n",
       "45303      44615834  Panic! At The Disco  The Greatest Show            13\n",
       "2829441    25321242  Мария Чайковская     В комнате цветных пелерин    12\n",
       "6119595    48925759  VERBEE               Зацепила                     12\n",
       "5091396    43363594  Блажин               Не перебивай                 12\n",
       "168851     45642101  Ленинград            В Зените                     12\n",
       "4064639    52103364  DaniLeigh            No Limits                    12\n",
       "4652316    44802655  The Hatters          No Rules                     11\n",
       "4480055    50276416  Boulevard Depo       DRUГ                         11\n",
       "Name: artist_id, dtype: int64"
      ]
     },
     "execution_count": 8,
     "metadata": {},
     "output_type": "execute_result"
    }
   ],
   "source": [
    "# Самые прослушиваемые треки исполнтеля\n",
    "artist_name = ''\n",
    "df.groupby([\n",
    "    'artist_id', 'track_id', 'artist', 'track'\n",
    "])['artist_id'].count().sort_values(ascending=False).head(10)"
   ]
  },
  {
   "cell_type": "code",
   "execution_count": 9,
   "metadata": {},
   "outputs": [
    {
     "data": {
      "text/plain": [
       "artist_id  album_id  artist          album                           \n",
       "5701276    6072366   Big Baby Tape   Dragonborn                          37\n",
       "4652316    4288331   The Hatters     Полная шляпа                        36\n",
       "2938031    5905756   Markul          Great Depression                    33\n",
       "4865954    5795190   GONE.Fludd      СУПЕРЧУИТС                          32\n",
       "           5265133   GONE.Fludd      BOYS DON'T CRY                      32\n",
       "6286764    5903231   алёна швец.     Похороните меня за социум           30\n",
       "3971885    6109353   V $ X V Prince  A$sorti                             25\n",
       "6103852    8651615   Нурминский      Пацаны с улиц выбиваются в люди     25\n",
       "4545156    7046525   Loqiemean       Сожги этот альбом                   25\n",
       "6841371    8584258   Ramil'          Всё, что есть у меня — это голод    24\n",
       "Name: artist_id, dtype: int64"
      ]
     },
     "execution_count": 9,
     "metadata": {},
     "output_type": "execute_result"
    }
   ],
   "source": [
    "# Самые прослушиваемые альбомы исполнтеля\n",
    "df.groupby([\n",
    "    'artist_id', 'album_id', 'artist', 'album'\n",
    "])['artist_id'].count().sort_values(ascending=False).head(10)"
   ]
  },
  {
   "cell_type": "code",
   "execution_count": 10,
   "metadata": {},
   "outputs": [
    {
     "data": {
      "text/plain": [
       "album_id  track_id  album                                     track                    \n",
       "7190880   51516485  WHEN WE ALL FALL ASLEEP, WHERE DO WE GO?  bad guy                      13\n",
       "5987731   44615834  The Greatest Show                         The Greatest Show            13\n",
       "7110405   51130391  Душевный флоу                             Душевный флоу                13\n",
       "2983115   25321242  Целуй меня                                В комнате цветных пелерин    12\n",
       "6129352   45642101  В Зените                                  В Зените                     12\n",
       "5766500   43363594  Не перебивай                              Не перебивай                 12\n",
       "6685991   48925759  Зацепила                                  Зацепила                     12\n",
       "7314272   52103364  No Limits                                 No Limits                    12\n",
       "5215177   40183800  Хочу к тебе                               Хочу к тебе                  11\n",
       "6109353   45499126  A$sorti                                   На лету                      11\n",
       "Name: album_id, dtype: int64"
      ]
     },
     "execution_count": 10,
     "metadata": {},
     "output_type": "execute_result"
    }
   ],
   "source": [
    "# Самые прослушиваемые треки альбома\n",
    "album_name = ''\n",
    "df.groupby([\n",
    "    'album_id', 'track_id', 'album', 'track'\n",
    "])['album_id'].count().sort_values(ascending=False).head(10)"
   ]
  },
  {
   "cell_type": "code",
   "execution_count": 11,
   "metadata": {},
   "outputs": [
    {
     "data": {
      "text/plain": [
       "genre\n",
       "rusrap         2804\n",
       "foreignrap      686\n",
       "alternative     436\n",
       "local-indie     265\n",
       "ruspop          252\n",
       "rock            250\n",
       "pop             173\n",
       "rusrock         163\n",
       "electronics     150\n",
       "indie           101\n",
       "Name: genre, dtype: int64"
      ]
     },
     "execution_count": 11,
     "metadata": {},
     "output_type": "execute_result"
    }
   ],
   "source": [
    "# Самые прослушиваемые жанры\n",
    "df.groupby(['genre'])['genre'].count().sort_values(ascending=False).head(10)"
   ]
  },
  {
   "cell_type": "code",
   "execution_count": 12,
   "metadata": {},
   "outputs": [
    {
     "data": {
      "image/png": "[encoded data removed]",
      "text/plain": [
       "<Figure size 1080x360 with 1 Axes>"
      ]
     },
     "metadata": {
      "needs_background": "light"
     },
     "output_type": "display_data"
    }
   ],
   "source": [
    "# Распределение треков по году выпуска\n",
    "\n",
    "plt.rcParams['figure.figsize'] = [15, 5]\n",
    "plt.hist(df['year'].sort_values(), bins=len(df['year'].unique()))\n",
    "plt.xticks(rotation='vertical')\n",
    "plt.show()"
   ]
  },
  {
   "cell_type": "code",
   "execution_count": 13,
   "metadata": {},
   "outputs": [
    {
     "data": {
      "text/plain": [
       "'13 18:54:42'"
      ]
     },
     "execution_count": 13,
     "metadata": {},
     "output_type": "execute_result"
    }
   ],
   "source": [
    "# Время, за которое были прослушены треки\n",
    "duration_sec = df['duration_sec'].astype('int64').sum()\n",
    "ss = duration_sec % 60\n",
    "m = duration_sec // 60\n",
    "mm = m % 60\n",
    "h = m // 60\n",
    "hh = h % 24\n",
    "f'{h // 24} {hh}:{mm}:{ss}'"
   ]
  },
  {
   "cell_type": "code",
   "execution_count": null,
   "metadata": {},
   "outputs": [],
   "source": []
  }
 ],
 "metadata": {
  "kernelspec": {
   "display_name": "Python 3",
   "language": "python",
   "name": "python3"
  },
  "language_info": {
   "codemirror_mode": {
    "name": "ipython",
    "version": 3
   },
   "file_extension": ".py",
   "mimetype": "text/x-python",
   "name": "python",
   "nbconvert_exporter": "python",
   "pygments_lexer": "ipython3",
   "version": "3.7.0"
  },
  "pycharm": {
   "stem_cell": {
    "cell_type": "raw",
    "metadata": {
     "collapsed": false
    },
    "source": []
   }
  }
 },
 "nbformat": 4,
 "nbformat_minor": 1
}
