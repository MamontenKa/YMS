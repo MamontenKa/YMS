{
 "cells": [
  {
   "cell_type": "code",
   "execution_count": 129,
   "metadata": {},
   "outputs": [],
   "source": [
    "import pandas as pd\n",
    "import numpy as np\n",
    "import matplotlib.pyplot as plt\n",
    "\n",
    "df = pd.read_csv('statistics.csv')"
   ]
  },
  {
   "cell_type": "code",
   "execution_count": 143,
   "metadata": {},
   "outputs": [
    {
     "data": {
      "text/html": [
       "<div>\n",
       "<style scoped>\n",
       "    .dataframe tbody tr th:only-of-type {\n",
       "        vertical-align: middle;\n",
       "    }\n",
       "\n",
       "    .dataframe tbody tr th {\n",
       "        vertical-align: top;\n",
       "    }\n",
       "\n",
       "    .dataframe thead th {\n",
       "        text-align: right;\n",
       "    }\n",
       "</style>\n",
       "<table border=\"1\" class=\"dataframe\">\n",
       "  <thead>\n",
       "    <tr style=\"text-align: right;\">\n",
       "      <th></th>\n",
       "      <th>artist</th>\n",
       "      <th>artist_id</th>\n",
       "      <th>album</th>\n",
       "      <th>album_id</th>\n",
       "      <th>track</th>\n",
       "      <th>track_id</th>\n",
       "      <th>duration_sec</th>\n",
       "      <th>year</th>\n",
       "      <th>genre</th>\n",
       "    </tr>\n",
       "  </thead>\n",
       "  <tbody>\n",
       "    <tr>\n",
       "      <td>0</td>\n",
       "      <td>Карандаш</td>\n",
       "      <td>168070</td>\n",
       "      <td>Монстр</td>\n",
       "      <td>3116503</td>\n",
       "      <td>Небо</td>\n",
       "      <td>36557153</td>\n",
       "      <td>195</td>\n",
       "      <td>2015</td>\n",
       "      <td>rusrap</td>\n",
       "    </tr>\n",
       "    <tr>\n",
       "      <td>1</td>\n",
       "      <td>Thomas Mraz</td>\n",
       "      <td>952536</td>\n",
       "      <td>9 Воскресений</td>\n",
       "      <td>6645904</td>\n",
       "      <td>Я против всех</td>\n",
       "      <td>40183101</td>\n",
       "      <td>147</td>\n",
       "      <td>2018</td>\n",
       "      <td>rusrap</td>\n",
       "    </tr>\n",
       "    <tr>\n",
       "      <td>2</td>\n",
       "      <td>10AGE</td>\n",
       "      <td>6504263</td>\n",
       "      <td>Пишешь мне пока</td>\n",
       "      <td>7758023</td>\n",
       "      <td>Пишешь мне пока</td>\n",
       "      <td>54022844</td>\n",
       "      <td>180</td>\n",
       "      <td>2019</td>\n",
       "      <td>rusrap</td>\n",
       "    </tr>\n",
       "    <tr>\n",
       "      <td>3</td>\n",
       "      <td>Нигатив</td>\n",
       "      <td>452221</td>\n",
       "      <td>Жамевю</td>\n",
       "      <td>5725570</td>\n",
       "      <td>На руках</td>\n",
       "      <td>44271938</td>\n",
       "      <td>167</td>\n",
       "      <td>2018</td>\n",
       "      <td>rusrap</td>\n",
       "    </tr>\n",
       "    <tr>\n",
       "      <td>4</td>\n",
       "      <td>Хлеб</td>\n",
       "      <td>3183564</td>\n",
       "      <td>Ну ты понял</td>\n",
       "      <td>6414483</td>\n",
       "      <td>Ну ты понял</td>\n",
       "      <td>47300144</td>\n",
       "      <td>99</td>\n",
       "      <td>2018</td>\n",
       "      <td>rusrap</td>\n",
       "    </tr>\n",
       "  </tbody>\n",
       "</table>\n",
       "</div>"
      ],
      "text/plain": [
       "        artist  artist_id            album album_id            track  \\\n",
       "0     Карандаш     168070           Монстр  3116503             Небо   \n",
       "1  Thomas Mraz     952536    9 Воскресений  6645904    Я против всех   \n",
       "2        10AGE    6504263  Пишешь мне пока  7758023  Пишешь мне пока   \n",
       "3      Нигатив     452221           Жамевю  5725570         На руках   \n",
       "4         Хлеб    3183564      Ну ты понял  6414483      Ну ты понял   \n",
       "\n",
       "   track_id duration_sec  year   genre  \n",
       "0  36557153          195  2015  rusrap  \n",
       "1  40183101          147  2018  rusrap  \n",
       "2  54022844          180  2019  rusrap  \n",
       "3  44271938          167  2018  rusrap  \n",
       "4  47300144           99  2018  rusrap  "
      ]
     },
     "execution_count": 143,
     "metadata": {},
     "output_type": "execute_result"
    }
   ],
   "source": [
    "df.head()"
   ]
  },
  {
   "cell_type": "code",
   "execution_count": 131,
   "metadata": {},
   "outputs": [
    {
     "name": "stdout",
     "output_type": "stream",
     "text": [
      "<class 'pandas.core.frame.DataFrame'>\n",
      "RangeIndex: 4457 entries, 0 to 4456\n",
      "Data columns (total 9 columns):\n",
      "artist          4457 non-null object\n",
      "artist_id       4457 non-null int64\n",
      "album           4423 non-null object\n",
      "album_id        4423 non-null object\n",
      "track           4457 non-null object\n",
      "track_id        4457 non-null int64\n",
      "duration_sec    4423 non-null object\n",
      "year            4413 non-null object\n",
      "genre           4416 non-null object\n",
      "dtypes: int64(2), object(7)\n",
      "memory usage: 191.6+ KB\n"
     ]
    }
   ],
   "source": [
    "df.replace('None', np.nan).info()"
   ]
  },
  {
   "cell_type": "code",
   "execution_count": 132,
   "metadata": {},
   "outputs": [],
   "source": [
    "df = df.replace('None', pd.np.nan).dropna()"
   ]
  },
  {
   "cell_type": "code",
   "execution_count": 146,
   "metadata": {},
   "outputs": [
    {
     "data": {
      "text/plain": [
       "artist_id  artist             \n",
       "4652316    The Hatters            89\n",
       "4865954    GONE.Fludd             62\n",
       "4234826    Jubilee                59\n",
       "6286764    алёна швец.            55\n",
       "42004      Hollywood Undead       53\n",
       "3204612    Тони Раут              44\n",
       "4545156    Loqiemean              43\n",
       "428038     Нервы                  42\n",
       "952536     Thomas Mraz            40\n",
       "2938031    Markul                 40\n",
       "3313381    ЛСП                    37\n",
       "5701276    Big Baby Tape          37\n",
       "184100     Three Days Grace       35\n",
       "4167774    XXXTentacion           34\n",
       "168851     Ленинград              33\n",
       "4480055    Boulevard Depo         33\n",
       "2419090    СМЕТАНА band           32\n",
       "4994784    МАЛЬБЭК                32\n",
       "4774224    Мы                     31\n",
       "3183564    Хлеб                   31\n",
       "452202     Макс Барских           29\n",
       "2618492    ГРОТ                   28\n",
       "3753800    IC3PEAK                28\n",
       "5056591    Эльдар Джарахов        27\n",
       "2829441    Мария Чайковская       26\n",
       "168070     Карандаш               26\n",
       "5976       Fall Out Boy           24\n",
       "9278       Limp Bizkit            23\n",
       "4164896    Lil Peep               22\n",
       "795224     LIZER                  22\n",
       "45303      Panic! At The Disco    22\n",
       "5781113    MORGENSHTERN           22\n",
       "4353492    Billie Eilish          21\n",
       "1634757    LASCALA                21\n",
       "5533907    Рапсат                 21\n",
       "3095130    Хаски                  21\n",
       "5457159    Two Feet               21\n",
       "6125147    Тима Белорусских       21\n",
       "3426942    ATL                    20\n",
       "36800      Linkin Park            20\n",
       "6521971    Bonapart               20\n",
       "191175     AC/DC                  19\n",
       "4064639    DaniLeigh              18\n",
       "6261169    нежность на бумаге     18\n",
       "3315646    Порнофильмы            17\n",
       "4622988    Слава КПСС             17\n",
       "4463891    Mnogoznaal             17\n",
       "4442969    scarlxrd               17\n",
       "41126      Каста                  17\n",
       "6103852    Нурминский             17\n",
       "Name: artist_id, dtype: int64"
      ]
     },
     "execution_count": 146,
     "metadata": {},
     "output_type": "execute_result"
    }
   ],
   "source": [
    "# Самые прослушиваемые исполнители\n",
    "df.groupby(['artist_id','artist'])['artist_id'].count().sort_values(ascending=False).head(50)"
   ]
  },
  {
   "cell_type": "code",
   "execution_count": 134,
   "metadata": {},
   "outputs": [
    {
     "data": {
      "text/plain": [
       "track_id  artist               track                              \n",
       "44615834  Panic! At The Disco  The Greatest Show                      12\n",
       "51516485  Billie Eilish        bad guy                                12\n",
       "51130391  XTV                  Душевный флоу                          11\n",
       "43363594  Блажин               Не перебивай                           11\n",
       "45642101  Ленинград            В Зените                               11\n",
       "25321242  Мария Чайковская     В комнате цветных пелерин              11\n",
       "48925759  VERBEE               Зацепила                               10\n",
       "44802655  The Hatters          No Rules                               10\n",
       "52103364  DaniLeigh            No Limits                              10\n",
       "14108967  Beethoven Consort    Canon in Gigue in D Major: I. Canon     9\n",
       "Name: track_id, dtype: int64"
      ]
     },
     "execution_count": 134,
     "metadata": {},
     "output_type": "execute_result"
    }
   ],
   "source": [
    "# Самые прослушиваемые песни\n",
    "df.groupby(['track_id', 'artist','track'])['track_id'].count().sort_values(ascending=False).head(15)"
   ]
  },
  {
   "cell_type": "code",
   "execution_count": 135,
   "metadata": {},
   "outputs": [
    {
     "data": {
      "text/plain": [
       "album_id  artist            album                    \n",
       "4288331   The Hatters       Полная шляпа                 35\n",
       "6072366   Big Baby Tape     Dragonborn                   34\n",
       "5903231   алёна швец.       Похороните меня за социум    30\n",
       "5795190   GONE.Fludd        СУПЕРЧУИТС                   26\n",
       "5265133   GONE.Fludd        BOYS DON'T CRY               25\n",
       "5905756   Markul            Great Depression             24\n",
       "2983115   Мария Чайковская  Целуй меня                   20\n",
       "7916987   The Hatters       Forte & Piano                20\n",
       "5746184   Эльдар Джарахов   ROCK'n'ROFL                  18\n",
       "68025     Three Days Grace  One-X                        18\n",
       "Name: album_id, dtype: int64"
      ]
     },
     "execution_count": 135,
     "metadata": {},
     "output_type": "execute_result"
    }
   ],
   "source": [
    "# Самые прослушиваемые альбомы\n",
    "df.groupby(['album_id', 'artist','album'])['album_id'].count().sort_values(ascending=False).head(10)"
   ]
  },
  {
   "cell_type": "code",
   "execution_count": 136,
   "metadata": {},
   "outputs": [
    {
     "data": {
      "text/plain": [
       "artist_id  track_id  artist               track                    \n",
       "45303      44615834  Panic! At The Disco  The Greatest Show            12\n",
       "4353492    51516485  Billie Eilish        bad guy                      12\n",
       "7112374    51130391  XTV                  Душевный флоу                11\n",
       "2829441    25321242  Мария Чайковская     В комнате цветных пелерин    11\n",
       "168851     45642101  Ленинград            В Зените                     11\n",
       "5091396    43363594  Блажин               Не перебивай                 11\n",
       "4652316    44802655  The Hatters          No Rules                     10\n",
       "6119595    48925759  VERBEE               Зацепила                     10\n",
       "4064639    52103364  DaniLeigh            No Limits                    10\n",
       "428038     35487142  Нервы                Батареи                       9\n",
       "Name: artist_id, dtype: int64"
      ]
     },
     "execution_count": 136,
     "metadata": {},
     "output_type": "execute_result"
    }
   ],
   "source": [
    "# Самые прослушиваемые треки исполнтеля\n",
    "artist_name = ''\n",
    "df.groupby(['artist_id', 'track_id', 'artist', 'track'])['artist_id'].count().sort_values(ascending=False).head(10)"
   ]
  },
  {
   "cell_type": "code",
   "execution_count": 137,
   "metadata": {},
   "outputs": [
    {
     "data": {
      "text/plain": [
       "artist_id  album_id  artist            album                    \n",
       "4652316    4288331   The Hatters       Полная шляпа                 35\n",
       "5701276    6072366   Big Baby Tape     Dragonborn                   34\n",
       "6286764    5903231   алёна швец.       Похороните меня за социум    30\n",
       "4865954    5795190   GONE.Fludd        СУПЕРЧУИТС                   26\n",
       "           5265133   GONE.Fludd        BOYS DON'T CRY               25\n",
       "2938031    5905756   Markul            Great Depression             24\n",
       "2829441    2983115   Мария Чайковская  Целуй меня                   20\n",
       "4652316    7916987   The Hatters       Forte & Piano                20\n",
       "5056591    5746184   Эльдар Джарахов   ROCK'n'ROFL                  18\n",
       "184100     68025     Three Days Grace  One-X                        18\n",
       "Name: artist_id, dtype: int64"
      ]
     },
     "execution_count": 137,
     "metadata": {},
     "output_type": "execute_result"
    }
   ],
   "source": [
    "# Самые прослушиваемые альбомы исполнтеля\n",
    "df.groupby(['artist_id', 'album_id', 'artist', 'album'])['artist_id'].count().sort_values(ascending=False).head(10)"
   ]
  },
  {
   "cell_type": "code",
   "execution_count": 147,
   "metadata": {},
   "outputs": [
    {
     "data": {
      "text/plain": [
       "album_id  track_id  album                                      track                                \n",
       "7190880   51516485  WHEN WE ALL FALL ASLEEP, WHERE DO WE GO?   bad guy                                  12\n",
       "5987731   44615834  The Greatest Show                          The Greatest Show                        12\n",
       "6129352   45642101  В Зените                                   В Зените                                 11\n",
       "5766500   43363594  Не перебивай                               Не перебивай                             11\n",
       "2983115   25321242  Целуй меня                                 В комнате цветных пелерин                11\n",
       "7110405   51130391  Душевный флоу                              Душевный флоу                            11\n",
       "6009021   44802655  Три внутри                                 No Rules                                 10\n",
       "6685991   48925759  Зацепила                                   Зацепила                                 10\n",
       "7314272   52103364  No Limits                                  No Limits                                10\n",
       "1535332   14108967  The 50 Greatest Pieces of Classical Music  Canon in Gigue in D Major: I. Canon       9\n",
       "7046525   50827112  Сожги этот альбом                          Солнечная сторона                         9\n",
       "6935404   50276416  STAY UGLY                                  DRUГ                                      9\n",
       "474096    35487142  Всё, что вокруг                            Батареи                                   9\n",
       "5957154   44420232  Всё в порядке                              Манямир                                   9\n",
       "7104768   20146227  The Judge                                  Trophies                                  9\n",
       "6109353   45499126  A$sorti                                    На лету                                   9\n",
       "1137582   10509913  Земля                                      Обійми                                    9\n",
       "8228311   46100755  Do You Feel Me?                            Hurt                                      9\n",
       "4264618   34577120  Феррари                                    Город                                     8\n",
       "4333062   34977801  Лiрика                                     Лирика                                    8\n",
       "1663809   15231890  Lifenotes                                  Circular Motion                           8\n",
       "4288331   34703885  Полная шляпа                               Свадьба                                   8\n",
       "6132642   40773518  Уровень: хриплая юность                    Первый сорт                               8\n",
       "5068087   39294176  Стая 1993                                  Стая 1993                                 8\n",
       "7019257   50685843  Акустический альбом                        Кукла колдуна                             8\n",
       "3116503   36557159  Монстр                                     Станешь взрослым                          8\n",
       "5118798   39632975  Мы ещё полетаем (the Best)                 Две тысячи баксов                         8\n",
       "3494431   29098301  16езумие                                   16езумие                                  8\n",
       "5861857   44337568  Я тебя никогда                             Дубак                                     8\n",
       "5871523   43942453  Аргументы                                  NBA                                       8\n",
       "4398954   35338498  Самый дорогой. Часть 1                     Самый дорогой человек                     8\n",
       "4864535   36734146  Forever Young, Forever Drunk               Кайфмэн                                   7\n",
       "7173848   51447929  Дикий яд                                   Дикий яд                                  7\n",
       "4144759   33854411  Fiesta                                     Реванш                                    7\n",
       "3857108   32291816  Как в последний раз                        Прости. Прощай. Привет                    7\n",
       "5215177   40183800  Хочу к тебе                                Хочу к тебе                               7\n",
       "4683951   37046748  Senpai                                     Senpai                                    7\n",
       "5714407   43036189  Сказка                                     Сказка                                    7\n",
       "4481211   35799713  The Mission                                The Mission                               7\n",
       "4738654   37408256  Васаби 3                                   Дайджест                                  7\n",
       "5647968   42685036  Singles                                    Умри, если меня не любишь (Шаг за 20)     7\n",
       "6478080   47627256  Cradles                                    Cradles                                   7\n",
       "7315566   52109056  Девочка в классе                           Девочка в классе                          7\n",
       "6275186   46516845  Когда зацветёт сирень                      Мою первую любовь звали ненависть         7\n",
       "6733539   51865604  Ламповый                                   Ламповый                                  6\n",
       "68025     2180613   One-X                                      Pain                                      6\n",
       "5265133   40498606  BOYS DON'T CRY                             МАМБЛ                                     6\n",
       "6033854   41920901  Teenage Love                               Пачка сигарет                             6\n",
       "5406575   41324687  Открой глаза                               Эхо войны                                 6\n",
       "6059469   45156776  Не перегорим                               Тёмно-оранжевый закат                     6\n",
       "Name: album_id, dtype: int64"
      ]
     },
     "execution_count": 147,
     "metadata": {},
     "output_type": "execute_result"
    }
   ],
   "source": [
    "# Самые прослушиваемые треки альбома\n",
    "album_name = ''\n",
    "df.groupby(['album_id', 'track_id', 'album', 'track'])['album_id'].count().sort_values(ascending=False).head(50)"
   ]
  },
  {
   "cell_type": "code",
   "execution_count": 139,
   "metadata": {
    "scrolled": true
   },
   "outputs": [
    {
     "data": {
      "text/plain": [
       "genre\n",
       "rusrap         1428\n",
       "foreignrap      445\n",
       "alternative     417\n",
       "local-indie     261\n",
       "rock            250\n",
       "ruspop          216\n",
       "pop             167\n",
       "rusrock         161\n",
       "electronics     147\n",
       "indie            98\n",
       "Name: genre, dtype: int64"
      ]
     },
     "execution_count": 139,
     "metadata": {},
     "output_type": "execute_result"
    }
   ],
   "source": [
    "# Самые прослушиваемые жанры\n",
    "df.groupby(['genre'])['genre'].count().sort_values(ascending=False).head(10)"
   ]
  },
  {
   "cell_type": "code",
   "execution_count": 151,
   "metadata": {},
   "outputs": [
    {
     "data": {
      "image/png": "[encoded data removed]",
      "text/plain": [
       "<Figure size 1080x360 with 1 Axes>"
      ]
     },
     "metadata": {
      "needs_background": "light"
     },
     "output_type": "display_data"
    }
   ],
   "source": [
    "# Распределение треков по году выпуска\n",
    "\n",
    "plt.rcParams['figure.figsize'] = [15, 5]\n",
    "plt.hist(df['year'].sort_values(), bins=len(df['year'].unique()))\n",
    "plt.xticks(rotation='vertical')\n",
    "plt.show()"
   ]
  },
  {
   "cell_type": "code",
   "execution_count": 141,
   "metadata": {},
   "outputs": [
    {
     "data": {
      "text/plain": [
       "'10 2:18:36 872316'"
      ]
     },
     "execution_count": 141,
     "metadata": {},
     "output_type": "execute_result"
    }
   ],
   "source": [
    "# Время, за которое были прослушены треки\n",
    "duration_sec = df['duration_sec'].astype('int64').sum()\n",
    "ss = duration_sec % 60\n",
    "m = duration_sec // 60\n",
    "mm = m % 60\n",
    "h = m // 60\n",
    "hh = h % 24\n",
    "d = h // 24\n",
    "f'{d} {hh}:{mm}:{ss} {duration_sec}'"
   ]
  },
  {
   "cell_type": "code",
   "execution_count": null,
   "metadata": {},
   "outputs": [],
   "source": []
  },
  {
   "cell_type": "code",
   "execution_count": null,
   "metadata": {},
   "outputs": [],
   "source": []
  },
  {
   "cell_type": "code",
   "execution_count": null,
   "metadata": {},
   "outputs": [],
   "source": []
  },
  {
   "cell_type": "code",
   "execution_count": null,
   "metadata": {},
   "outputs": [],
   "source": []
  }
 ],
 "metadata": {
  "kernelspec": {
   "display_name": "Python 3",
   "language": "python",
   "name": "python3"
  },
  "language_info": {
   "codemirror_mode": {
    "name": "ipython",
    "version": 3
   },
   "file_extension": ".py",
   "mimetype": "text/x-python",
   "name": "python",
   "nbconvert_exporter": "python",
   "pygments_lexer": "ipython3",
   "version": "3.7.4"
  },
  "pycharm": {
   "stem_cell": {
    "cell_type": "raw",
    "metadata": {
     "collapsed": false
    },
    "source": []
   }
  }
 },
 "nbformat": 4,
 "nbformat_minor": 1
}
